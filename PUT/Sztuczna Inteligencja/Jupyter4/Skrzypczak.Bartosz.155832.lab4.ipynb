{
 "cells": [
  {
   "cell_type": "markdown",
   "metadata": {},
   "source": [
    "# Sieci splotowe"
   ]
  },
  {
   "cell_type": "code",
   "execution_count": 2,
   "metadata": {},
   "outputs": [],
   "source": [
    "%matplotlib inline\n",
    "\n",
    "import matplotlib\n",
    "import numpy as np\n",
    "import matplotlib.pyplot as plt\n",
    "\n",
    "import torch\n",
    "import torch.nn as nn\n",
    "import torch.optim as optim\n",
    "import torch.utils.data as data"
   ]
  },
  {
   "cell_type": "markdown",
   "metadata": {},
   "source": [
    "## Przygotowanie danych\n",
    "Ponownie wykorzystamy w zadaniu zbiór MNIST. Zaczynamy od pobrania dnaych."
   ]
  },
  {
   "cell_type": "code",
   "execution_count": 3,
   "metadata": {},
   "outputs": [],
   "source": [
    "import torchvision.transforms as transforms\n",
    "from torchvision.datasets import MNIST\n",
    "\n",
    "target_directory = \"mnist\"\n",
    "\n",
    "mnist_real_train = MNIST(target_directory, train=True, download=True, transform=transforms.ToTensor())\n",
    "mnist_test = MNIST(target_directory, train=False, download=True, transform=transforms.ToTensor())"
   ]
  },
  {
   "cell_type": "code",
   "execution_count": 4,
   "metadata": {},
   "outputs": [
    {
     "data": {
      "text/plain": [
       "(48000, 12000)"
      ]
     },
     "execution_count": 4,
     "metadata": {},
     "output_type": "execute_result"
    }
   ],
   "source": [
    "mnist_train, mnist_validation = data.random_split(mnist_real_train, (48000, 12000))\n",
    "len(mnist_train), len(mnist_validation)"
   ]
  },
  {
   "cell_type": "code",
   "execution_count": 5,
   "metadata": {},
   "outputs": [
    {
     "data": {
      "text/plain": [
       "torch.Size([1, 28, 28])"
      ]
     },
     "execution_count": 5,
     "metadata": {},
     "output_type": "execute_result"
    }
   ],
   "source": [
    "mnist_train[0][0].shape"
   ]
  },
  {
   "cell_type": "code",
   "execution_count": 6,
   "metadata": {},
   "outputs": [],
   "source": [
    "def compute_acc(logits, expected):\n",
    "    pred = logits.argmax(dim=1)\n",
    "    return (pred == expected).type(torch.float).mean()"
   ]
  },
  {
   "cell_type": "markdown",
   "metadata": {},
   "source": [
    "## Budowa sieci neuronowej"
   ]
  },
  {
   "cell_type": "markdown",
   "metadata": {},
   "source": [
    "### Warstwa splotowa\n",
    "\n",
    "Warstwa splotowa (ang. *convolutional layer*) przesuwa jądro (ang. *kernel*) po obrazie (w ogólności: po macierzy) miejsce przy miejscu, oblicza wynik i zapamiętuje w macierzy wyjściowej. Na poniższym rysunku mamy do czynienia z obrazem $7\\times 5$ pikseli (jasnoszary obszar w dolnej części rysunku) po którym przesuwane jest jądro $3\\times 3$ piksele. Obrazek jest uzupełniony (ang. *padding*) o zera, zaznaczone na rysunku kolorem ciemnoszarym. Po co takie uzupełnienie? Bez niego macierz wynikowa byłaby mniejsza niż obrazek wejściowy. Czerwony piksel w macierzy wyjściowej obliczany jest następująco: każdy z pikseli obrazu wejściowego jest mnożony przez odpowiadającą mu wartość w filtrze, a tak uzyskane 9 wartości jest sumowane. Następnie ten sam filtr wykorzystywany jest do obliczenia kolejnego piksela - zaznaczonego na niebiesko - na podstawie pikseli wejściowych zaznaczonych niebieską linią przerywaną. Filtr to są wagi splotowej sieci neuronowej, to znaczy to on podlega uczeniu."
   ]
  },
  {
   "cell_type": "markdown",
   "metadata": {},
   "source": [
    "![Rysunek poglądowy dotyczący warstwy splotowej](img/mlst_1303.png)\n",
    "\n",
    "Aurélien Géron \"Hands-On Machine Learning with Scikit-Learn, Keras, and TensorFlow\" O'Reilly Media 2017"
   ]
  },
  {
   "cell_type": "markdown",
   "metadata": {},
   "source": [
    "Jądro nie musi przsuwać się za każdym razem o 1 piksel, może mieć większy krok (ang. *stride*), jak na poniższym rysunku."
   ]
  },
  {
   "cell_type": "markdown",
   "metadata": {},
   "source": [
    "![Ilustracja *stride*](img/mlst_1304.png)\n",
    "\n",
    "Aurélien Géron \"Hands-On Machine Learning with Scikit-Learn, Keras, and TensorFlow\" O'Reilly Media 2017"
   ]
  },
  {
   "cell_type": "markdown",
   "metadata": {},
   "source": [
    "Ale, ale... przecież obrazki mogą być kolorowe! No i faktycznie, możemy postrzegać pojedynczy obrazek jako kilka obrazków monochromatycznych. Wtedy zamiast przesuwać płaski filtr po pojedynczym obrazku przesuwamy kostkę, której dwa wymiary możemy modyfikować (odpowiedzialne za wysokość i szerokość), natomiast jej głębokość jest ustalona - zależy od liczby warstw obrazka. Na poniższym rysunku zaczynamy od normalnego obrazka RGB, który następnie jest zamieniany na wiele map - każda posiadająca swój jeden filtr (kostkę) - w ten sposób powstaje nowy \"obrazek\" podpisany na rysunku *Convolutional layer 1*, na którym... ponawiamy operację! Używając nowego zestawu filtrów tworzymy *Convolutional layer 2*."
   ]
  },
  {
   "cell_type": "markdown",
   "metadata": {},
   "source": [
    "![Ilustracja sieci splotowej w przypadku trójwymiarowym](img/mlst_1306.png)\n",
    "\n",
    "Aurélien Géron \"Hands-On Machine Learning with Scikit-Learn, Keras, and TensorFlow\" O'Reilly Media 2017"
   ]
  },
  {
   "cell_type": "markdown",
   "metadata": {},
   "source": [
    "Warstwę splotową w PyTorch realizuje klasa [`torch.nn.Conv2d`](https://pytorch.org/docs/stable/nn.html?highlight=conv2d#torch.nn.Conv2d). Pierwsze trzy parametry jej konstruktora są obowiązkowe, to kolejno: liczba map na wejściu, liczba map na wyjściu, rozmiar jądra (jedna liczba jeżeli ma być kwadratowe albo para liczb jeżeli ma być prostokątem).\n",
    "\n",
    "Będziemy budowali krok po kroku tablicę `layers`, której będziemy umieszczali kolejne warstwy naszej sieci neuronowej.\n",
    "Rozpoczniemy od dodania warstwy splotowej.\n",
    "Obrazki MNIST są monochromatyczne, więc mamy tylko 1 kanał wejściowy.\n",
    "Przyjmimy, że na wyjściu będziemy mieli 5 map, każdą na bazie kwadratowego filtra o boku 3.\n",
    "Żeby nie zmniejszyć zbyt szybko obrazka dodamy po 1 pikselu paddingu z każdej strony - jak na rysunku powyżej."
   ]
  },
  {
   "cell_type": "code",
   "execution_count": 7,
   "metadata": {},
   "outputs": [],
   "source": [
    "layers = [\n",
    "    nn.Conv2d(1, 5, 3, padding=1)\n",
    "]"
   ]
  },
  {
   "cell_type": "markdown",
   "metadata": {},
   "source": [
    "### Nieliniowość\n",
    "\n",
    "Warstwa splotowa - podobnie jak warstwa liniowa (`nn.Linear`) - jest tylko sumą. Nie ma sensu bezpośrednie składanie kilku warstw splotowych jedna na drugą, potrzebna jest nieliniowość. Zastosujemy *leaky ReLU*, funkcję aktywacji przedstawioną na poniższym wykresie"
   ]
  },
  {
   "cell_type": "markdown",
   "metadata": {},
   "source": [
    "![Leaky ReLU](img/leaky_relu.png)\n",
    "\n",
    "Aurélien Géron \"Hands-On Machine Learning with Scikit-Learn, Keras, and TensorFlow\" O'Reilly Media 2017"
   ]
  },
  {
   "cell_type": "code",
   "execution_count": 8,
   "metadata": {},
   "outputs": [],
   "source": [
    "layers.append(nn.LeakyReLU())"
   ]
  },
  {
   "cell_type": "markdown",
   "metadata": {},
   "source": [
    "### Łączenie\n",
    "\n",
    "Sieć splotowa pozwala uwydatnić pewne cechy w obrazie, na przykład na poniższym rysunku na mapie po lewej stronie uwydatnione zostały linie pionowe, a po prawej linie poziome. "
   ]
  },
  {
   "cell_type": "markdown",
   "metadata": {},
   "source": [
    "![](img/mlst_1305.png)\n",
    "\n",
    "Aurélien Géron \"Hands-On Machine Learning with Scikit-Learn, Keras, and TensorFlow\" O'Reilly Media 2017"
   ]
  },
  {
   "cell_type": "markdown",
   "metadata": {},
   "source": [
    "Z drugiej strony to uwydatnienie spowodowało, że trochę straciliśmy szczegóły i właściwie nie potrzebujemy już tak dużej rozdzielczości. Z pomocą przychodzi operacja łączenia (ang. *pooling*), która podobnie jak sieć splotowa przesuwa filtr przez obraz, ale ten filtr jest pozbawiony parametrów: służy albo do wybierania maksimum (ang. *max pooling*) albo do obliczania średniej arytmetycznej (ang. *average pooling*). Poniższy rysunek zgrubnie prezentuje ideę *max pooling* (kernel $2\\times 2$, stride 2, bez paddingu - stąd $\\times$ w ostatniej kolumnie). W przypadku operacji łączenia nie ma problemu z przejściem do przetwarzania obrazów kolorowych - każda mapa (kanał) analizowana jest oddzielnie, więc zawsze pozostajemy w dwóch wymiarach, wykonując tę operację."
   ]
  },
  {
   "cell_type": "markdown",
   "metadata": {},
   "source": [
    "![max pooling](img/mlst_1308.png)\n",
    "\n",
    "Aurélien Géron \"Hands-On Machine Learning with Scikit-Learn, Keras, and TensorFlow\" O'Reilly Media 2017"
   ]
  },
  {
   "cell_type": "markdown",
   "metadata": {},
   "source": [
    "Dodamy do naszej sieci neuronowej *max pooling*, realizowany za pomocą klasy `nn.MaxPool2d`, z jądrem rozmiaru $3\\times 3$ i uzupełnieniem o 1 piksel z każdej strony."
   ]
  },
  {
   "cell_type": "code",
   "execution_count": 9,
   "metadata": {},
   "outputs": [
    {
     "data": {
      "text/plain": [
       "[Conv2d(1, 5, kernel_size=(3, 3), stride=(1, 1), padding=(1, 1)),\n",
       " LeakyReLU(negative_slope=0.01),\n",
       " MaxPool2d(kernel_size=3, stride=3, padding=1, dilation=1, ceil_mode=False)]"
      ]
     },
     "execution_count": 9,
     "metadata": {},
     "output_type": "execute_result"
    }
   ],
   "source": [
    "layers.append(nn.MaxPool2d(3, padding=1))\n",
    "layers"
   ]
  },
  {
   "cell_type": "markdown",
   "metadata": {},
   "source": [
    "### Zadanie 1\n",
    "\n",
    "Ile map i jakiego rozmiaru będzie na tym etapie przetwarzania, jeżeli wejście miało jedną mapę rozmiaru $28\\times 28$?"
   ]
  },
  {
   "cell_type": "markdown",
   "metadata": {},
   "source": [
    "* **Liczba map**: 5\n",
    "* **Rozmiar każdej mapy**: 10 x 10"
   ]
  },
  {
   "cell_type": "markdown",
   "metadata": {},
   "source": [
    "### Spłaszczanie\n",
    "\n",
    "Na tym etapie każdy obiekt przetwarzany przez naszą sieć neuronową jest trójwymiarowy, tj. składa się z pewnej liczby dwuwymiarowych map. Takiego wejścia nie możemy podać do warstwy liniowej! Wykorzystamy klasę `nn.Flatten`, żeby ułożyć piksele jeden za drugim w formie wektora."
   ]
  },
  {
   "cell_type": "code",
   "execution_count": 10,
   "metadata": {},
   "outputs": [],
   "source": [
    "layers.append(nn.Flatten())"
   ]
  },
  {
   "cell_type": "markdown",
   "metadata": {},
   "source": [
    "### Zadanie 2: Warstwa liniowa\n",
    "\n",
    "Tak samo jak na poprzednich zajęciach wykorzystamy do klasyfikacji warstwę `nn.Linear`. Klasyfikujemy do 10 klas, więc musimy mieć 10 neuronów, ale ilu wejść potrzebujemy? Uzupełnij poprzedni kod na podstawie wyników zadania 1."
   ]
  },
  {
   "cell_type": "code",
   "execution_count": 11,
   "metadata": {},
   "outputs": [],
   "source": [
    "layers.append(nn.Linear(500, 10))"
   ]
  },
  {
   "cell_type": "markdown",
   "metadata": {},
   "source": [
    "### Faktyczna budowa sieci neuronowej\n",
    "\n",
    "Warstwy połączymy w jeden moduł wykorzystując klasę `nn.Sequential`, jako funkcję straty wykorzystamy entropię krzyżową, a do optymalizacji optymalizator Adam."
   ]
  },
  {
   "cell_type": "code",
   "execution_count": 12,
   "metadata": {},
   "outputs": [],
   "source": [
    "model = nn.Sequential(*layers)\n",
    "\n",
    "cost = torch.nn.CrossEntropyLoss()\n",
    "opt = optim.Adam(model.parameters())"
   ]
  },
  {
   "cell_type": "code",
   "execution_count": 13,
   "metadata": {},
   "outputs": [
    {
     "data": {
      "text/plain": [
       "Sequential(\n",
       "  (0): Conv2d(1, 5, kernel_size=(3, 3), stride=(1, 1), padding=(1, 1))\n",
       "  (1): LeakyReLU(negative_slope=0.01)\n",
       "  (2): MaxPool2d(kernel_size=3, stride=3, padding=1, dilation=1, ceil_mode=False)\n",
       "  (3): Flatten(start_dim=1, end_dim=-1)\n",
       "  (4): Linear(in_features=500, out_features=10, bias=True)\n",
       ")"
      ]
     },
     "execution_count": 13,
     "metadata": {},
     "output_type": "execute_result"
    }
   ],
   "source": [
    "model"
   ]
  },
  {
   "cell_type": "markdown",
   "metadata": {},
   "source": [
    "## Uczenie z wykorzystaniem wczesnego zatrzymania\n",
    "\n",
    "Wczesne zatrzymanie (ang. *early stopping*) polega na tym, że co określoną liczbę epok uczenia obliczamy miarę oceny (np. trafność klasyfikacji) na zbiorze walidującym. Jeżeli nastąpiła poprawa w stosunku do poprzedniego razu, to zapamiętujemy obecne wartości wag sieci neuronowej, jeżeli zaś przez kilka razy nie następuje poprawa, to przerywamy uczenie i przywracamy wagi ostatniego najlepszego modelu.\n",
    "\n",
    "Poniższy kawałek kodu oblicza trafność na zbiorze walidującym co epokę i przerywa uczenie jeżeli przez 5 kolejnych epok nie nastąpiła poprawa."
   ]
  },
  {
   "cell_type": "code",
   "execution_count": 14,
   "metadata": {},
   "outputs": [
    {
     "name": "stdout",
     "output_type": "stream",
     "text": [
      "New best epoch  0 acc tensor(0.8211)\n",
      "New best epoch  1 acc tensor(0.8808)\n",
      "New best epoch  2 acc tensor(0.9021)\n",
      "New best epoch  3 acc tensor(0.9105)\n",
      "New best epoch  4 acc tensor(0.9187)\n",
      "New best epoch  5 acc tensor(0.9229)\n",
      "New best epoch  6 acc tensor(0.9266)\n",
      "New best epoch  7 acc tensor(0.9287)\n",
      "New best epoch  8 acc tensor(0.9329)\n",
      "New best epoch  9 acc tensor(0.9372)\n",
      "New best epoch  11 acc tensor(0.9388)\n",
      "New best epoch  12 acc tensor(0.9411)\n",
      "New best epoch  13 acc tensor(0.9433)\n",
      "New best epoch  14 acc tensor(0.9447)\n",
      "New best epoch  15 acc tensor(0.9460)\n",
      "New best epoch  16 acc tensor(0.9478)\n",
      "New best epoch  18 acc tensor(0.9497)\n",
      "New best epoch  19 acc tensor(0.9498)\n",
      "New best epoch  20 acc tensor(0.9516)\n",
      "New best epoch  21 acc tensor(0.9528)\n",
      "New best epoch  23 acc tensor(0.9552)\n",
      "New best epoch  24 acc tensor(0.9553)\n",
      "New best epoch  25 acc tensor(0.9563)\n",
      "New best epoch  26 acc tensor(0.9569)\n",
      "New best epoch  27 acc tensor(0.9588)\n",
      "New best epoch  29 acc tensor(0.9591)\n",
      "New best epoch  30 acc tensor(0.9607)\n",
      "New best epoch  31 acc tensor(0.9613)\n",
      "New best epoch  33 acc tensor(0.9622)\n",
      "New best epoch  34 acc tensor(0.9636)\n",
      "New best epoch  36 acc tensor(0.9637)\n",
      "New best epoch  37 acc tensor(0.9644)\n",
      "New best epoch  38 acc tensor(0.9655)\n",
      "New best epoch  40 acc tensor(0.9664)\n",
      "New best epoch  41 acc tensor(0.9665)\n",
      "New best epoch  43 acc tensor(0.9672)\n",
      "New best epoch  44 acc tensor(0.9680)\n",
      "New best epoch  45 acc tensor(0.9681)\n",
      "New best epoch  46 acc tensor(0.9684)\n",
      "New best epoch  47 acc tensor(0.9690)\n",
      "New best epoch  49 acc tensor(0.9693)\n",
      "New best epoch  51 acc tensor(0.9694)\n",
      "New best epoch  52 acc tensor(0.9697)\n",
      "New best epoch  53 acc tensor(0.9703)\n",
      "New best epoch  55 acc tensor(0.9712)\n",
      "New best epoch  57 acc tensor(0.9716)\n",
      "New best epoch  61 acc tensor(0.9717)\n",
      "New best epoch  63 acc tensor(0.9719)\n",
      "New best epoch  66 acc tensor(0.9723)\n",
      "New best epoch  69 acc tensor(0.9724)\n",
      "New best epoch  71 acc tensor(0.9725)\n",
      "New best epoch  73 acc tensor(0.9735)\n",
      "No improvement for 5 epochs\n"
     ]
    },
    {
     "data": {
      "text/plain": [
       "<All keys matched successfully>"
      ]
     },
     "execution_count": 14,
     "metadata": {},
     "output_type": "execute_result"
    }
   ],
   "source": [
    "train_loss = []\n",
    "validation_acc = []\n",
    "best_model = None\n",
    "best_acc = None\n",
    "best_epoch = None\n",
    "max_epoch = 10000\n",
    "no_improvement = 5\n",
    "batch_size = 512\n",
    "\n",
    "for n_epoch in range(max_epoch):\n",
    "    model.train()\n",
    "    loader = data.DataLoader(mnist_train, batch_size=batch_size, shuffle=True, num_workers=1)\n",
    "    epoch_loss = []\n",
    "    for X_batch, y_batch in loader:\n",
    "        opt.zero_grad()\n",
    "        logits = model(X_batch)\n",
    "        loss = cost(logits, y_batch)\n",
    "        loss.backward()\n",
    "        opt.step()        \n",
    "        epoch_loss.append(loss.detach())\n",
    "    train_loss.append(torch.tensor(epoch_loss).mean())\n",
    "    model.eval()\n",
    "    loader = data.DataLoader(mnist_validation, batch_size=len(mnist_validation), shuffle=False)\n",
    "    X, y = next(iter(loader))\n",
    "    logits = model(X)\n",
    "    acc = compute_acc(logits, y).detach()\n",
    "    validation_acc.append(acc)\n",
    "    if best_acc is None or acc > best_acc:\n",
    "        print(\"New best epoch \", n_epoch, \"acc\", acc)\n",
    "        best_acc = acc\n",
    "        best_model = model.state_dict()\n",
    "        best_epoch = n_epoch\n",
    "    if best_epoch + no_improvement <= n_epoch:\n",
    "        print(\"No improvement for\", no_improvement, \"epochs\")\n",
    "        break\n",
    "        \n",
    "model.load_state_dict(best_model)"
   ]
  },
  {
   "cell_type": "markdown",
   "metadata": {},
   "source": [
    "Przyjrzyj się poniższym wykresom"
   ]
  },
  {
   "cell_type": "code",
   "execution_count": 15,
   "metadata": {},
   "outputs": [
    {
     "data": {
      "image/png": "[encoded data removed]",
      "text/plain": [
       "<Figure size 640x480 with 1 Axes>"
      ]
     },
     "metadata": {},
     "output_type": "display_data"
    },
    {
     "data": {
      "image/png": "[encoded data removed]",
      "text/plain": [
       "<Figure size 640x480 with 1 Axes>"
      ]
     },
     "metadata": {},
     "output_type": "display_data"
    },
    {
     "data": {
      "image/png": "[encoded data removed]",
      "text/plain": [
       "<Figure size 640x480 with 1 Axes>"
      ]
     },
     "metadata": {},
     "output_type": "display_data"
    }
   ],
   "source": [
    "plt.title('Validation accuracy. Dot denotes best accuracy.')\n",
    "plt.plot(validation_acc, label='Validation accuracy')\n",
    "plt.plot(best_epoch, best_acc, 'bo', label='Best accuracy')\n",
    "plt.show()\n",
    "plt.title('Training loss')\n",
    "plt.plot(train_loss)\n",
    "plt.show()\n",
    "k = max(3*no_improvement, 0)\n",
    "plt.title('Last {} epochs'.format(k))\n",
    "plt.plot(validation_acc[-k:])\n",
    "plt.plot(best_epoch-(len(validation_acc)-k), best_acc, 'bo')\n",
    "plt.show()"
   ]
  },
  {
   "cell_type": "markdown",
   "metadata": {},
   "source": [
    "### Zadanie 3\n",
    "Dlaczego wczesne zatrzymanie jest realizowane na zbiorze walidującym, a nie na zbiorze uczącym albo na zbiorze testowym?"
   ]
  },
  {
   "cell_type": "markdown",
   "metadata": {},
   "source": [
    "\n",
    "Wczesne zatrzymanie jest realizowane na zbiorze walidacyjnym, ponieważ umożliwia ocenę zdolności modelu do generalizacji na danych, których nie widział podczas treningu, co pozwala uniknąć przeuczenia. Nie stosuje się go na zbiorze testowym, ponieważ służy on tylko do ostatecznej oceny modelu, a użycie zbioru uczącego nie odzwierciedlałoby generalizacji, bo model dopasowuje się do tych danych."
   ]
  },
  {
   "cell_type": "markdown",
   "metadata": {},
   "source": [
    "### Zadanie 4\n",
    "\n",
    "Oblicz trafność klasyfikacji na zbiorze walidującym i na zbiorze testowym. Czy uzyskane wartości się różnią? W którą stronę? Dlaczego tak może być?"
   ]
  },
  {
   "cell_type": "code",
   "execution_count": 16,
   "metadata": {},
   "outputs": [
    {
     "name": "stdout",
     "output_type": "stream",
     "text": [
      "Validation accuracy: 0.9735000133514404\n",
      "Test accuracy: 0.9743000268936157\n"
     ]
    }
   ],
   "source": [
    "model.load_state_dict(best_model)\n",
    "\n",
    "model.eval()\n",
    "validation_loader = data.DataLoader(mnist_validation, batch_size=len(mnist_validation), shuffle=False)\n",
    "X_val, y_val = next(iter(validation_loader))\n",
    "logits_val = model(X_val)\n",
    "validation_acc = compute_acc(logits_val, y_val).detach()\n",
    "print(f'Validation accuracy: {validation_acc}')\n",
    "\n",
    "test_loader = data.DataLoader(mnist_test, batch_size=len(mnist_test), shuffle=False)\n",
    "X_test, y_test = next(iter(test_loader))\n",
    "logits_test = model(X_test)\n",
    "test_acc = compute_acc(logits_test, y_test).detach()\n",
    "print(f'Test accuracy: {test_acc}')\n"
   ]
  },
  {
   "cell_type": "markdown",
   "metadata": {},
   "source": [
    "Tak, wartości trafności na zbiorze walidacyjnym i testowym się różnią. Zwykle trafność na zbiorze walidacyjnym jest nieco wyższa niż na zbiorze testowym. Wynika to z faktu, że  zbiór testowy jest natomiast nowym zbiorem, na którym model nie był trenowany ani walidowany, co może skutkować niższą trafnością. Natomiast w naszym przypadku nasz model został wytrenowany na tyle dobrze, ze wyjątkowo na zbiorze testującym mamy lepszą trafność niz na walidującym."
   ]
  },
  {
   "cell_type": "markdown",
   "metadata": {},
   "source": [
    "## Zadanie do samodzielnego wykonania\n",
    "\n",
    "Zaimplementuj sieć o architekturze zbliżonej do [LeNet-5](http://yann.lecun.com/exdb/publis/pdf/lecun-01a.pdf), zgodnie z poniższym opisem:\n",
    "\n",
    "|Nr warstwy|Typ|Rozmiar wyjścia|Liczba filtrów|Rozmiar jądra (`kernel_size`)|Krok (`stride`)|Padding|Funkcja aktywacji|\n",
    "|----------|---|---------------|--------------|-----------------------|---------------|-------|-----------------|\n",
    "|1|splotowa|$28\\times 28$|6|$5\\times 5$|1|2|tanh|\n",
    "|2|avgerage pooling|$14\\times 14$|6|$2\\times 2$|2|0|tanh|\n",
    "|3|splotowa|$10\\times 10$|16|$5\\times 5$|1|0|tanh|\n",
    "|4|average pooling|$5\\times 5$|16|$2\\times 2$|2|0|tanh|\n",
    "|5|splotowa|$1\\times 1$|120|$5\\times 5$|1|0|tanh|\n",
    "|6|pełna|84|||||tanh|\n",
    "|7|pełna|10|||||brak|"
   ]
  },
  {
   "cell_type": "markdown",
   "metadata": {},
   "source": [
    "Architektura w formie rysunku (z [oryginalnego artykułu](http://yann.lecun.com/exdb/publis/pdf/lecun-01a.pdf)):\n",
    "\n",
    "![LeNet5 architecture](img/lenet5.png)"
   ]
  },
  {
   "cell_type": "markdown",
   "metadata": {},
   "source": [
    "## Zadania szczegółowe:\n",
    "\n",
    "1. Zbuduj sieć\n",
    "2. Ucz sieć wykorzystując early stopping (przez ocenę accuracy na zbiorze walidującym)\n",
    "3. Oceń jakość sieci na zbiorze testowym\n",
    "4. Wyświetl 10 źle zaklasyfikowanych przypadków ze zbioru testowego, razem z informacją o poprawnej etykiecie oraz etykiecie zaproponowanej przez model. Posłuż się funkcją `plt.imshow`"
   ]
  },
  {
   "cell_type": "code",
   "execution_count": 17,
   "metadata": {},
   "outputs": [
    {
     "name": "stdout",
     "output_type": "stream",
     "text": [
      "Epoch 0: New best accuracy = 0.9075833559036255\n",
      "Epoch 1: New best accuracy = 0.9419999718666077\n",
      "Epoch 2: New best accuracy = 0.956416666507721\n",
      "Epoch 3: New best accuracy = 0.9651666879653931\n",
      "Epoch 4: New best accuracy = 0.9737499952316284\n",
      "Epoch 5: New best accuracy = 0.9759166836738586\n",
      "Epoch 6: New best accuracy = 0.9778333306312561\n",
      "Epoch 7: New best accuracy = 0.9794166684150696\n",
      "Epoch 8: New best accuracy = 0.9809166789054871\n",
      "Epoch 9: New best accuracy = 0.9821666479110718\n",
      "Epoch 10: New best accuracy = 0.9828333258628845\n",
      "Epoch 11: New best accuracy = 0.9830833077430725\n",
      "Epoch 12: New best accuracy = 0.9858333468437195\n",
      "Epoch 16: New best accuracy = 0.9865000247955322\n",
      "Epoch 18: New best accuracy = 0.9869999885559082\n",
      "Epoch 22: New best accuracy = 0.9884166717529297\n",
      "Early stopping at epoch 27. Best accuracy = 0.9884166717529297\n",
      "Test accuracy: 0.9872999787330627\n",
      "Liczba błędnie zaklasyfikowanych przykładów: 127\n"
     ]
    },
    {
     "data": {
      "image/png": "[encoded data removed]",
      "text/plain": [
       "<Figure size 1000x1000 with 10 Axes>"
      ]
     },
     "metadata": {},
     "output_type": "display_data"
    }
   ],
   "source": [
    "import torch\n",
    "import torch.nn as nn\n",
    "import torch.optim as optim\n",
    "import torch.utils.data as data\n",
    "from torchvision import datasets, transforms\n",
    "import matplotlib.pyplot as plt\n",
    "\n",
    "# Budowa sieci\n",
    "class LeNet5(nn.Module):\n",
    "    def __init__(self):\n",
    "        super(LeNet5, self).__init__()\n",
    "        self.conv1 = nn.Conv2d(1, 6, kernel_size=5, stride=1, padding=2)\n",
    "        self.pool1 = nn.AvgPool2d(kernel_size=2, stride=2)\n",
    "        self.conv2 = nn.Conv2d(6, 16, kernel_size=5, stride=1, padding=0)\n",
    "        self.pool2 = nn.AvgPool2d(kernel_size=2, stride=2)\n",
    "        self.conv3 = nn.Conv2d(16, 120, kernel_size=5, stride=1, padding=0)\n",
    "        self.fc1 = nn.Linear(120, 84)\n",
    "        self.fc2 = nn.Linear(84, 10)\n",
    "        self.activation = torch.tanh\n",
    "\n",
    "    def forward(self, x):\n",
    "        x = self.activation(self.conv1(x))\n",
    "        x = self.pool1(x)\n",
    "        x = self.activation(x)\n",
    "        x = self.activation(self.conv2(x))\n",
    "        x = self.pool2(x)\n",
    "        x = self.activation(x)\n",
    "        x = self.activation(self.conv3(x))\n",
    "        x = x.view(x.size(0), -1)\n",
    "        x = self.activation(self.fc1(x))\n",
    "        x = self.fc2(x)\n",
    "        return x\n",
    "\n",
    "transform = transforms.Compose([transforms.ToTensor(), transforms.Normalize((0.5,), (0.5,))])\n",
    "mnist_train = datasets.MNIST(root=\"./data\", train=True, download=True, transform=transform)\n",
    "mnist_test = datasets.MNIST(root=\"./data\", train=False, download=True, transform=transform)\n",
    "\n",
    "train_size = int(0.8 * len(mnist_train))\n",
    "validation_size = len(mnist_train) - train_size\n",
    "mnist_train, mnist_validation = data.random_split(mnist_train, [train_size, validation_size])\n",
    "\n",
    "train_loader = data.DataLoader(mnist_train, batch_size=512, shuffle=True)\n",
    "validation_loader = data.DataLoader(mnist_validation, batch_size=len(mnist_validation), shuffle=False)\n",
    "test_loader = data.DataLoader(mnist_test, batch_size=len(mnist_test), shuffle=False)\n",
    "\n",
    "# Funkcja do obliczania trafności\n",
    "def compute_acc(logits, y):\n",
    "    predictions = torch.argmax(logits, dim=1)\n",
    "    return (predictions == y).float().mean()\n",
    "\n",
    "# Trenowanie modelu z early stopping\n",
    "device = torch.device(\"cuda\" if torch.cuda.is_available() else \"cpu\")\n",
    "model = LeNet5().to(device)\n",
    "opt = optim.Adam(model.parameters(), lr=0.001)\n",
    "cost = nn.CrossEntropyLoss()\n",
    "\n",
    "train_loss = []\n",
    "validation_acc = []\n",
    "best_model = None\n",
    "best_acc = None\n",
    "best_epoch = None\n",
    "max_epoch = 100\n",
    "no_improvement = 5\n",
    "\n",
    "for n_epoch in range(max_epoch):\n",
    "    model.train()\n",
    "    epoch_loss = []\n",
    "    for X_batch, y_batch in train_loader:\n",
    "        X_batch, y_batch = X_batch.to(device), y_batch.to(device)\n",
    "        opt.zero_grad()\n",
    "        logits = model(X_batch)\n",
    "        loss = cost(logits, y_batch)\n",
    "        loss.backward()\n",
    "        opt.step()\n",
    "        epoch_loss.append(loss.item())\n",
    "    train_loss.append(sum(epoch_loss) / len(epoch_loss))\n",
    "\n",
    "    # Walidacja\n",
    "    model.eval()\n",
    "    with torch.no_grad():\n",
    "        X_val, y_val = next(iter(validation_loader))\n",
    "        X_val, y_val = X_val.to(device), y_val.to(device)\n",
    "        logits = model(X_val)\n",
    "        acc = compute_acc(logits, y_val).item()\n",
    "        validation_acc.append(acc)\n",
    "\n",
    "    if best_acc is None or acc > best_acc:\n",
    "        best_acc = acc\n",
    "        best_model = model.state_dict()\n",
    "        best_epoch = n_epoch\n",
    "        print(f\"Epoch {n_epoch}: New best accuracy = {acc}\")\n",
    "\n",
    "    if best_epoch + no_improvement <= n_epoch:\n",
    "        print(f\"Early stopping at epoch {n_epoch}. Best accuracy = {best_acc}\")\n",
    "        break\n",
    "\n",
    "model.load_state_dict(best_model)\n",
    "\n",
    "# Ocena jakości\n",
    "model.eval()\n",
    "with torch.no_grad():\n",
    "    X_test, y_test = next(iter(test_loader))\n",
    "    X_test, y_test = X_test.to(device), y_test.to(device)\n",
    "    logits = model(X_test)\n",
    "    test_acc = compute_acc(logits, y_test).item()\n",
    "    print(f\"Test accuracy: {test_acc}\")\n",
    "\n",
    "# Wyświetlanie błędow\n",
    "predictions = torch.argmax(logits, dim=1)\n",
    "incorrect = (predictions != y_test).nonzero(as_tuple=True)[0]\n",
    "\n",
    "print(f\"Liczba błędnie zaklasyfikowanych przykładów: {len(incorrect)}\")\n",
    "plt.figure(figsize=(10, 10))\n",
    "\n",
    "for i, idx in enumerate(incorrect[:10]):\n",
    "    plt.subplot(2, 5, i + 1)\n",
    "    plt.imshow(X_test[idx].cpu().squeeze(), cmap=\"gray\")\n",
    "    plt.title(f\"True: {y_test[idx].item()}, Pred: {predictions[idx].item()}\")\n",
    "    plt.axis(\"off\")\n",
    "\n",
    "plt.tight_layout()\n",
    "plt.show()\n"
   ]
  }
 ],
 "metadata": {
  "kernelspec": {
   "display_name": "base",
   "language": "python",
   "name": "python3"
  },
  "language_info": {
   "codemirror_mode": {
    "name": "ipython",
    "version": 3
   },
   "file_extension": ".py",
   "mimetype": "text/x-python",
   "name": "python",
   "nbconvert_exporter": "python",
   "pygments_lexer": "ipython3",
   "version": "3.10.10"
  }
 },
 "nbformat": 4,
 "nbformat_minor": 2
}
