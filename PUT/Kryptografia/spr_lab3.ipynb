{
 "cells": [
  {
   "cell_type": "markdown",
   "metadata": {},
   "source": [
    "# Sprawozdanie - funkcje skrótu\n",
    "## Bartosz Skrzypczak 155832"
   ]
  },
  {
   "cell_type": "markdown",
   "metadata": {},
   "source": [
    "Załadowanie potrzebnych bibliotek"
   ]
  },
  {
   "cell_type": "code",
   "execution_count": 2,
   "metadata": {},
   "outputs": [],
   "source": [
    "import hashlib\n",
    "import timeit\n",
    "import random\n",
    "import string\n",
    "import matplotlib.pyplot as plt\n",
    "import pandas as pd"
   ]
  },
  {
   "cell_type": "markdown",
   "metadata": {},
   "source": [
    "Funkcja generate_hashes przyjmuje tekst wejściowy, koduje go do formatu bajtowego, a następnie generuje i zwraca skróty (w formie szesnastkowej) dla różnych funkcji skrótu, takich jak MD5, SHA-1, SHA-224, SHA-256, SHA-384, SHA-512 oraz SHA3 (w wariantach 224, 256, 384 i 512 bitów)."
   ]
  },
  {
   "cell_type": "code",
   "execution_count": 3,
   "metadata": {},
   "outputs": [],
   "source": [
    "def generate_hashes(input_text):\n",
    "    input_bytes = input_text.encode('utf-8')\n",
    "    return {\n",
    "        'MD5': hashlib.md5(input_bytes).hexdigest(),\n",
    "        'SHA-1': hashlib.sha1(input_bytes).hexdigest(),\n",
    "        'SHA-224': hashlib.sha224(input_bytes).hexdigest(),\n",
    "        'SHA-256': hashlib.sha256(input_bytes).hexdigest(),\n",
    "        'SHA-384': hashlib.sha384(input_bytes).hexdigest(),\n",
    "        'SHA-512': hashlib.sha512(input_bytes).hexdigest(),\n",
    "        'SHA3-224': hashlib.sha3_224(input_bytes).hexdigest(),\n",
    "        'SHA3-256': hashlib.sha3_256(input_bytes).hexdigest(),\n",
    "        'SHA3-384': hashlib.sha3_384(input_bytes).hexdigest(),\n",
    "        'SHA3-512': hashlib.sha3_512(input_bytes).hexdigest()\n",
    "    }"
   ]
  },
  {
   "cell_type": "markdown",
   "metadata": {},
   "source": [
    "Funkcja benchmark_hash_function mierzy czas wykonania wybranej funkcji skrótu, obliczając jej wynik dla podanego tekstu wejściowego, a następnie zwraca czas wykonania tej operacji, powtarzanej 1000 razy. W kodzie głównym generowany jest zestaw danych wejściowych o różnych długościach (10 000, 50 000, 100 000, 500 000, 1 000 000 znaków), a następnie dla każdej długości tekstu mierzone są czasy obliczeń dla różnych funkcji skrótu (MD5, SHA-1, SHA-224, SHA-256, SHA-384, SHA-512 oraz SHA3). Na końcu wyniki są zapisywane w tabeli (DataFrame), zawierającej czasy wykonania oraz długości wygenerowanych skrótów."
   ]
  },
  {
   "cell_type": "code",
   "execution_count": 6,
   "metadata": {},
   "outputs": [
    {
     "data": {
      "text/html": [
       "<div>\n",
       "<style scoped>\n",
       "    .dataframe tbody tr th:only-of-type {\n",
       "        vertical-align: middle;\n",
       "    }\n",
       "\n",
       "    .dataframe tbody tr th {\n",
       "        vertical-align: top;\n",
       "    }\n",
       "\n",
       "    .dataframe thead th {\n",
       "        text-align: right;\n",
       "    }\n",
       "</style>\n",
       "<table border=\"1\" class=\"dataframe\">\n",
       "  <thead>\n",
       "    <tr style=\"text-align: right;\">\n",
       "      <th></th>\n",
       "      <th>Input Length</th>\n",
       "      <th>MD5 Time</th>\n",
       "      <th>MD5 Length</th>\n",
       "      <th>SHA-1 Time</th>\n",
       "      <th>SHA-1 Length</th>\n",
       "      <th>SHA-224 Time</th>\n",
       "      <th>SHA-224 Length</th>\n",
       "      <th>SHA-256 Time</th>\n",
       "      <th>SHA-256 Length</th>\n",
       "      <th>SHA-384 Time</th>\n",
       "      <th>...</th>\n",
       "      <th>SHA-512 Time</th>\n",
       "      <th>SHA-512 Length</th>\n",
       "      <th>SHA3-224 Time</th>\n",
       "      <th>SHA3-224 Length</th>\n",
       "      <th>SHA3-256 Time</th>\n",
       "      <th>SHA3-256 Length</th>\n",
       "      <th>SHA3-384 Time</th>\n",
       "      <th>SHA3-384 Length</th>\n",
       "      <th>SHA3-512 Time</th>\n",
       "      <th>SHA3-512 Length</th>\n",
       "    </tr>\n",
       "  </thead>\n",
       "  <tbody>\n",
       "    <tr>\n",
       "      <th>0</th>\n",
       "      <td>10000</td>\n",
       "      <td>0.025140</td>\n",
       "      <td>32</td>\n",
       "      <td>0.005931</td>\n",
       "      <td>40</td>\n",
       "      <td>0.005582</td>\n",
       "      <td>56</td>\n",
       "      <td>0.005344</td>\n",
       "      <td>64</td>\n",
       "      <td>0.008262</td>\n",
       "      <td>...</td>\n",
       "      <td>0.007873</td>\n",
       "      <td>128</td>\n",
       "      <td>0.014933</td>\n",
       "      <td>56</td>\n",
       "      <td>0.015096</td>\n",
       "      <td>64</td>\n",
       "      <td>0.019755</td>\n",
       "      <td>96</td>\n",
       "      <td>0.027307</td>\n",
       "      <td>128</td>\n",
       "    </tr>\n",
       "    <tr>\n",
       "      <th>1</th>\n",
       "      <td>50000</td>\n",
       "      <td>0.072501</td>\n",
       "      <td>32</td>\n",
       "      <td>0.020667</td>\n",
       "      <td>40</td>\n",
       "      <td>0.020283</td>\n",
       "      <td>56</td>\n",
       "      <td>0.020199</td>\n",
       "      <td>64</td>\n",
       "      <td>0.033627</td>\n",
       "      <td>...</td>\n",
       "      <td>0.033583</td>\n",
       "      <td>128</td>\n",
       "      <td>0.069308</td>\n",
       "      <td>56</td>\n",
       "      <td>0.073823</td>\n",
       "      <td>64</td>\n",
       "      <td>0.096902</td>\n",
       "      <td>96</td>\n",
       "      <td>0.140486</td>\n",
       "      <td>128</td>\n",
       "    </tr>\n",
       "    <tr>\n",
       "      <th>2</th>\n",
       "      <td>100000</td>\n",
       "      <td>0.143639</td>\n",
       "      <td>32</td>\n",
       "      <td>0.041085</td>\n",
       "      <td>40</td>\n",
       "      <td>0.040588</td>\n",
       "      <td>56</td>\n",
       "      <td>0.040555</td>\n",
       "      <td>64</td>\n",
       "      <td>0.068325</td>\n",
       "      <td>...</td>\n",
       "      <td>0.067501</td>\n",
       "      <td>128</td>\n",
       "      <td>0.138369</td>\n",
       "      <td>56</td>\n",
       "      <td>0.146205</td>\n",
       "      <td>64</td>\n",
       "      <td>0.188733</td>\n",
       "      <td>96</td>\n",
       "      <td>0.268959</td>\n",
       "      <td>128</td>\n",
       "    </tr>\n",
       "    <tr>\n",
       "      <th>3</th>\n",
       "      <td>500000</td>\n",
       "      <td>0.703448</td>\n",
       "      <td>32</td>\n",
       "      <td>0.197757</td>\n",
       "      <td>40</td>\n",
       "      <td>0.195943</td>\n",
       "      <td>56</td>\n",
       "      <td>0.196156</td>\n",
       "      <td>64</td>\n",
       "      <td>0.368713</td>\n",
       "      <td>...</td>\n",
       "      <td>0.337529</td>\n",
       "      <td>128</td>\n",
       "      <td>0.696562</td>\n",
       "      <td>56</td>\n",
       "      <td>0.730438</td>\n",
       "      <td>64</td>\n",
       "      <td>0.946040</td>\n",
       "      <td>96</td>\n",
       "      <td>1.404087</td>\n",
       "      <td>128</td>\n",
       "    </tr>\n",
       "    <tr>\n",
       "      <th>4</th>\n",
       "      <td>1000000</td>\n",
       "      <td>1.595153</td>\n",
       "      <td>32</td>\n",
       "      <td>0.455484</td>\n",
       "      <td>40</td>\n",
       "      <td>0.443682</td>\n",
       "      <td>56</td>\n",
       "      <td>0.443482</td>\n",
       "      <td>64</td>\n",
       "      <td>0.736046</td>\n",
       "      <td>...</td>\n",
       "      <td>0.749075</td>\n",
       "      <td>128</td>\n",
       "      <td>1.544780</td>\n",
       "      <td>56</td>\n",
       "      <td>1.620876</td>\n",
       "      <td>64</td>\n",
       "      <td>2.057936</td>\n",
       "      <td>96</td>\n",
       "      <td>2.897416</td>\n",
       "      <td>128</td>\n",
       "    </tr>\n",
       "  </tbody>\n",
       "</table>\n",
       "<p>5 rows × 21 columns</p>\n",
       "</div>"
      ],
      "text/plain": [
       "   Input Length  MD5 Time  MD5 Length  SHA-1 Time  SHA-1 Length  SHA-224 Time  \\\n",
       "0         10000  0.025140          32    0.005931            40      0.005582   \n",
       "1         50000  0.072501          32    0.020667            40      0.020283   \n",
       "2        100000  0.143639          32    0.041085            40      0.040588   \n",
       "3        500000  0.703448          32    0.197757            40      0.195943   \n",
       "4       1000000  1.595153          32    0.455484            40      0.443682   \n",
       "\n",
       "   SHA-224 Length  SHA-256 Time  SHA-256 Length  SHA-384 Time  ...  \\\n",
       "0              56      0.005344              64      0.008262  ...   \n",
       "1              56      0.020199              64      0.033627  ...   \n",
       "2              56      0.040555              64      0.068325  ...   \n",
       "3              56      0.196156              64      0.368713  ...   \n",
       "4              56      0.443482              64      0.736046  ...   \n",
       "\n",
       "   SHA-512 Time  SHA-512 Length  SHA3-224 Time  SHA3-224 Length  \\\n",
       "0      0.007873             128       0.014933               56   \n",
       "1      0.033583             128       0.069308               56   \n",
       "2      0.067501             128       0.138369               56   \n",
       "3      0.337529             128       0.696562               56   \n",
       "4      0.749075             128       1.544780               56   \n",
       "\n",
       "   SHA3-256 Time  SHA3-256 Length  SHA3-384 Time  SHA3-384 Length  \\\n",
       "0       0.015096               64       0.019755               96   \n",
       "1       0.073823               64       0.096902               96   \n",
       "2       0.146205               64       0.188733               96   \n",
       "3       0.730438               64       0.946040               96   \n",
       "4       1.620876               64       2.057936               96   \n",
       "\n",
       "   SHA3-512 Time  SHA3-512 Length  \n",
       "0       0.027307              128  \n",
       "1       0.140486              128  \n",
       "2       0.268959              128  \n",
       "3       1.404087              128  \n",
       "4       2.897416              128  \n",
       "\n",
       "[5 rows x 21 columns]"
      ]
     },
     "execution_count": 6,
     "metadata": {},
     "output_type": "execute_result"
    }
   ],
   "source": [
    "def benchmark_hash_function(hash_func, input_text):\n",
    "    def wrapper():\n",
    "        hash_func(input_text.encode('utf-8')).hexdigest()\n",
    "    return timeit.timeit(wrapper, number=1000)\n",
    "\n",
    "input_lengths = [10_000, 50_000, 100_000, 500_000, 1_000_000]\n",
    "results = []\n",
    "\n",
    "for length in input_lengths:\n",
    "    input_text = ''.join(random.choices(string.ascii_letters + string.digits, k=length))\n",
    "    row = {'Input Length': length}\n",
    "    for name, func in {\n",
    "        'MD5': hashlib.md5, 'SHA-1': hashlib.sha1,\n",
    "        'SHA-224': hashlib.sha224, 'SHA-256': hashlib.sha256,\n",
    "        'SHA-384': hashlib.sha384, 'SHA-512': hashlib.sha512,\n",
    "        'SHA3-224': hashlib.sha3_224, 'SHA3-256': hashlib.sha3_256,\n",
    "        'SHA3-384': hashlib.sha3_384, 'SHA3-512': hashlib.sha3_512\n",
    "    }.items():\n",
    "        exec_time = benchmark_hash_function(func, input_text)\n",
    "        hash_len = len(func(input_text.encode('utf-8')).hexdigest())\n",
    "        row[f'{name} Time'] = exec_time\n",
    "        row[f'{name} Length'] = hash_len\n",
    "    results.append(row)\n",
    "\n",
    "df = pd.DataFrame(results)\n",
    "df\n"
   ]
  },
  {
   "cell_type": "markdown",
   "metadata": {},
   "source": [
    "### Zadanie 2"
   ]
  },
  {
   "cell_type": "markdown",
   "metadata": {},
   "source": [
    "### Szybkość działania funkcji skrótu\n",
    "\n",
    "Dla każdego rozmiaru danych wejściowych (od 10 000 do 1 000 000 znaków), czas obliczenia skrótu wzrasta liniowo. Oto ogólne obserwacje:\n",
    "\n",
    " - Najszybsze funkcje:\n",
    "\n",
    "    - SHA-1 i SHA-224 – są najwydajniejsze przy wszystkich rozmiarach wejściowych.\n",
    "\n",
    "    - SHA-256 także wypada bardzo dobrze i stabilnie.\n",
    "\n",
    " - Wolniejsze funkcje:\n",
    "\n",
    "    - SHA-3 (wszystkie warianty) są znacznie wolniejsze, zwłaszcza SHA3-512, która dla 1 000 000 znaków potrzebuje ~2,9 sekundy, czyli najwięcej ze wszystkich.\n",
    "\n",
    "    - MD5 osiąga porównywalne wyniki do najszybszych funkcji SHA-3 czyli SHA3-224 i SHA3-256, jednak jest prawie 4x wolniejszy od SHA-1, SHA-224 i SHA-256\n"
   ]
  },
  {
   "cell_type": "markdown",
   "metadata": {},
   "source": [
    "### Długość skrótu wyjściowego\n",
    "\n",
    "Skróty o najmniejszej długości generuje algorytm MD5, a ich długość wynosi 32 znaki. Najdłuższe skróty mają a 128 znaków - generowane przez SHA-512 i SHA3-512.\n",
    "\n",
    "Długość skrótów z grupy SHA2 i SHA3 jest taka sama, dla wariantów o tym samym \"kodzie\" - tzn. np. długość skrótu SHA-512 jest taka sama jak SHA3-512. To oznaczenie liczbowe, odpowiadia liczbie bitów, na jakies zapisany jest hash. Korzystamy z systemu szesnastkowego, zatem przykładowe 512 należałoby podzielić przez 4 - wtedy uzyskamy rzeczywistą długość ciągu tj. 128 znaków."
   ]
  },
  {
   "cell_type": "code",
   "execution_count": 8,
   "metadata": {},
   "outputs": [
    {
     "name": "stdout",
     "output_type": "stream",
     "text": [
      "MD5 hash of 'hej': 541c57960bb997942655d14e3b9607f9\n"
     ]
    }
   ],
   "source": [
    "short_input = \"hej\"\n",
    "md5_hash = hashlib.md5(short_input.encode()).hexdigest()\n",
    "print(f\"MD5 hash of '{short_input}': {md5_hash}\")"
   ]
  },
  {
   "cell_type": "markdown",
   "metadata": {},
   "source": [
    "### Zadanie 3\n",
    "Sprawdzić czy wartość funkcji jest powszechnie znany można np. na tej stronie: https://crackstation.net/\n",
    "\n",
    "Po sprawdzeniu okazuje się, że jest znana zatem a jej odszyfrowanie zajmuje ułamek sekundy. \n",
    "Oznacza to, że użycie funkcji MD5 dla tak krótkich tekstów nie gwarantuje żadnego bezpieczeństwa, bo wiedząc, że hash jest wynikiem funkcji skrótu\n",
    "jego odszyfrowanie nie stanowi żadnej trudności."
   ]
  },
  {
   "cell_type": "markdown",
   "metadata": {},
   "source": [
    "### Zadanie 4\n",
    "\n",
    "Nie, nie jest bezpieczna. MD5 nie spełnia współczesnych standardów kryptograficznych i nie powinna być używana do zabezpieczania danych, w szczególności haseł czy podpisów cyfrowych.\n",
    "\n",
    "Dlaczego MD5 jest niebezpieczna?\n",
    "- Kolizje zostały oficjalnie znalezione – czyli możliwe jest wygenerowanie dwóch różnych danych wejściowych, które dają identyczny hash.\n",
    "\n",
    "    - W 2004 roku Xiaoyun Wang i Hongbo Yu opublikowali pierwszy praktyczny atak kolizyjny.\n",
    "\n",
    "    - W 2008 udało się podrobić certyfikat SSL z użyciem kolizji MD5.\n",
    "\n",
    "    - Google i Centrum Badawcze CWI w 2017 roku przeprowadziły atak SHAttered – generując dwie różne PDF-y z tym samym hash MD5.\n",
    "\n",
    "- Brak odporności na preimage – istnieją sposoby na odnalezienie danych wejściowych pasujących do danego skrótu.\n",
    "\n",
    "- MD5 jest bardzo szybki, co sprzyja atakom brute-force i wykorzystaniu rainbow tables, szczególnie w przypadku krótkich haseł."
   ]
  },
  {
   "cell_type": "markdown",
   "metadata": {},
   "source": [
    "### Zadanie 5\n",
    "\n",
    "Funkcja first_n_bits(h, n=12) przekształca skrót w postaci szesnastkowej na reprezentację binarną i zwraca tylko pierwsze n bitów, gdzie domyślnie n wynosi 12.\n",
    "\n",
    "Funkcja count_collisions(hash_function, num_trials=10000, bit_length=12) przeprowadza test kolizji dla zadanej funkcji skrótu. Dla każdego z num_trials losowo generowanego ciągu wejściowego (o długości 10 znaków), obliczany jest skrót, a następnie wyciągane są pierwsze n bitów z tego skrótu. Jeżeli te bity zostały już wcześniej napotkane, zwiększa się liczba kolizji. Na końcu funkcja zwraca całkowitą liczbę kolizji.\n",
    "\n",
    "Testowanie jest przeprowadzane dla dwóch funkcji skrótu: SHA-256 i SHA3-256, z ustawioną liczbą prób na 10,000 i liczbą badanych bitów na 12."
   ]
  },
  {
   "cell_type": "code",
   "execution_count": 28,
   "metadata": {},
   "outputs": [
    {
     "name": "stdout",
     "output_type": "stream",
     "text": [
      "Kolizje SHA-256 (12 bitów, 10000 prób): 6239\n",
      "Kolizje SHA3-256 (12 bitów, 10000 prób): 6293\n"
     ]
    }
   ],
   "source": [
    "def first_n_bits(h, n=12):\n",
    "    return bin(int(h, 16))[2:].zfill(256)[:n]\n",
    "\n",
    "# Funkcja do zliczania kolizji\n",
    "def count_collisions(hash_function, num_trials=10000, bit_length=12):\n",
    "    seen = set()\n",
    "    collisions = 0\n",
    "    for _ in range(num_trials):\n",
    "        random_input = ''.join(random.choices(string.ascii_letters + string.digits, k=10))\n",
    "        digest = hash_function(random_input.encode()).hexdigest()\n",
    "        bits = first_n_bits(digest, bit_length)\n",
    "        if bits in seen:\n",
    "            collisions += 1\n",
    "        else:\n",
    "            seen.add(bits)\n",
    "    return collisions\n",
    "\n",
    "\n",
    "# Testowanie dla SHA-256\n",
    "collisions_sha256 = count_collisions(hashlib.sha256, num_trials=10000, bit_length=12)\n",
    "print(f\"Kolizje SHA-256 (12 bitów, 10000 prób): {collisions_sha256}\")\n",
    "\n",
    "# Testowanie dla SHA-3-256\n",
    "collisions_sha3_256 = count_collisions(hashlib.sha3_256, num_trials=10000, bit_length=12)\n",
    "print(f\"Kolizje SHA3-256 (12 bitów, 10000 prób): {collisions_sha3_256}\")"
   ]
  },
  {
   "cell_type": "markdown",
   "metadata": {},
   "source": [
    "### Zadanie 6\n",
    "\n",
    "Funkcja hamming_distance oblicza liczbę różniących się bitów między dwoma skrótami w formie szesnastkowej, używając operacji XOR. Funkcja test_sac testuje kryterium SAC (Strict Avalanche Criterion) dla wybranej funkcji skrótu, mierząc, jak bardzo zmieniają się bity wyniku po zmianie jednego bitu w wejściu. Proces ten powtarza się przez określoną liczbę prób, a na koniec obliczana jest średnia liczba zmienionych bitów. Testowanie zostało przeprowadzone dla SHA-1, a wynik pokazuje, jak dobrze funkcja spełnia kryterium SAC."
   ]
  },
  {
   "cell_type": "code",
   "execution_count": 70,
   "metadata": {},
   "outputs": [
    {
     "name": "stdout",
     "output_type": "stream",
     "text": [
      "Średnia liczba zmienionych bitów w SHA-1: 49.19\n"
     ]
    }
   ],
   "source": [
    "def hamming_distance(h1, h2):\n",
    "    return bin(int(h1, 16) ^ int(h2, 16)).count('1')\n",
    "\n",
    "# Funkcja do badania SAC\n",
    "def test_sac(hash_function, num_trials=100, input_length=16):\n",
    "    bits_changed = []\n",
    "\n",
    "    for _ in range(num_trials):\n",
    "        original_input = ''.join(random.choices('01', k=input_length))\n",
    "        original_hash = hash_function(original_input.encode()).hexdigest()\n",
    "\n",
    "        mutated_input = list(original_input)\n",
    "        mutated_input[random.randint(0, len(mutated_input) - 1)] = '1' if mutated_input[random.randint(0, len(mutated_input) - 1)] == '0' else '0'\n",
    "        mutated_input = ''.join(mutated_input)\n",
    "        mutated_hash = hash_function(mutated_input.encode()).hexdigest()\n",
    "\n",
    "        diff_bits = hamming_distance(original_hash, mutated_hash)\n",
    "        bits_changed.append(diff_bits)\n",
    "\n",
    "    average_changed_bits = sum(bits_changed) / len(bits_changed)\n",
    "    return average_changed_bits\n",
    "\n",
    "# Testowanie SAC dla SHA-1\n",
    "average_sha1 = test_sac(hashlib.sha1, num_trials=100)\n",
    "print(f\"Średnia liczba zmienionych bitów w SHA-1: {average_sha1}\")"
   ]
  },
  {
   "cell_type": "markdown",
   "metadata": {},
   "source": [
    "### Rola soli\n",
    "\n",
    "Rola soli w tworzeniu skrótów polega na zwiększeniu bezpieczeństwa przez dodanie losowego ciągu danych (tzw. soli) do wejściowego hasła lub wiadomości przed obliczeniem jego skrótu. Solenie hasła utrudnia ataki takie jak ataki słownikowe czy ataki typu rainbow tables, ponieważ każde hasło, nawet jeśli jest takie samo, będzie miało inny skrót ze względu na unikalną sól. Dzięki temu, atakujący nie może wykorzystać gotowych tabel skrótów (np. dla popularnych haseł), a także zyskuje się odporność na ataki brute force, ponieważ każde hasło jest „rozmyte” przez sól. Sól jest przechowywana w bazie danych razem z hasłem, ale nie powinna być używana w procesie tworzenia skrótu bez dodatkowego losowego elementu."
   ]
  }
 ],
 "metadata": {
  "kernelspec": {
   "display_name": "base",
   "language": "python",
   "name": "python3"
  },
  "language_info": {
   "codemirror_mode": {
    "name": "ipython",
    "version": 3
   },
   "file_extension": ".py",
   "mimetype": "text/x-python",
   "name": "python",
   "nbconvert_exporter": "python",
   "pygments_lexer": "ipython3",
   "version": "3.10.10"
  }
 },
 "nbformat": 4,
 "nbformat_minor": 2
}
